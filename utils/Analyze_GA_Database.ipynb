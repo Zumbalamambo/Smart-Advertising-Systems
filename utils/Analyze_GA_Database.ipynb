{
 "cells": [
  {
   "cell_type": "code",
   "execution_count": 5,
   "metadata": {},
   "outputs": [],
   "source": [
    "%matplotlib inline\n",
    "import pandas as pd\n",
    "import numpy as pd\n",
    "import matplotlib as plt\n",
    "import cv2\n",
    "import os"
   ]
  },
  {
   "cell_type": "code",
   "execution_count": 4,
   "metadata": {},
   "outputs": [],
   "source": [
    "data_path = '/media/vmc/12D37C49724FE954/Face_Data/The_Images_of_Groups_Dataset/GA_Net_database'"
   ]
  },
  {
   "cell_type": "code",
   "execution_count": 26,
   "metadata": {},
   "outputs": [],
   "source": [
    "filename_arr = []"
   ]
  },
  {
   "cell_type": "code",
   "execution_count": 27,
   "metadata": {},
   "outputs": [
    {
     "name": "stdout",
     "output_type": "stream",
     "text": [
      ">> /media/vmc/12D37C49724FE954/Face_Data/The_Images_of_Groups_Dataset/GA_Net_database/1\n",
      ">> /media/vmc/12D37C49724FE954/Face_Data/The_Images_of_Groups_Dataset/GA_Net_database/10\n",
      ">> /media/vmc/12D37C49724FE954/Face_Data/The_Images_of_Groups_Dataset/GA_Net_database/11\n",
      ">> /media/vmc/12D37C49724FE954/Face_Data/The_Images_of_Groups_Dataset/GA_Net_database/2\n",
      ">> /media/vmc/12D37C49724FE954/Face_Data/The_Images_of_Groups_Dataset/GA_Net_database/3\n",
      ">> /media/vmc/12D37C49724FE954/Face_Data/The_Images_of_Groups_Dataset/GA_Net_database/4\n",
      ">> /media/vmc/12D37C49724FE954/Face_Data/The_Images_of_Groups_Dataset/GA_Net_database/5\n",
      ">> /media/vmc/12D37C49724FE954/Face_Data/The_Images_of_Groups_Dataset/GA_Net_database/6\n",
      ">> /media/vmc/12D37C49724FE954/Face_Data/The_Images_of_Groups_Dataset/GA_Net_database/7\n",
      ">> /media/vmc/12D37C49724FE954/Face_Data/The_Images_of_Groups_Dataset/GA_Net_database/8\n",
      ">> /media/vmc/12D37C49724FE954/Face_Data/The_Images_of_Groups_Dataset/GA_Net_database/9\n"
     ]
    }
   ],
   "source": [
    "for folder_name in os.listdir(data_path):\n",
    "    if folder_name[-3:] != 'txt':\n",
    "        folder_path = os.path.join(data_path, folder_name)\n",
    "        print('>> {}'.format(folder_path))\n",
    "    \n",
    "    for image_name in os.listdir(folder_path):\n",
    "        filename_arr.append(image_name)"
   ]
  },
  {
   "cell_type": "code",
   "execution_count": 28,
   "metadata": {},
   "outputs": [
    {
     "name": "stdout",
     "output_type": "stream",
     "text": [
      "Number of images: 22982\n"
     ]
    }
   ],
   "source": [
    "print('Number of images: {}'.format(len(filename_arr)))"
   ]
  },
  {
   "cell_type": "code",
   "execution_count": 29,
   "metadata": {},
   "outputs": [
    {
     "data": {
      "text/plain": [
       "'A1-G1-0-1025296488_4712c26a4f_1160_96603368@N00-Fam2a.jpg'"
      ]
     },
     "execution_count": 29,
     "metadata": {},
     "output_type": "execute_result"
    }
   ],
   "source": [
    "filename_arr[0]"
   ]
  },
  {
   "cell_type": "code",
   "execution_count": 30,
   "metadata": {},
   "outputs": [
    {
     "name": "stdout",
     "output_type": "stream",
     "text": [
      "Number of Female: 11065\n",
      "Number of Male: 11917\n"
     ]
    }
   ],
   "source": [
    "num_female = 0\n",
    "num_male = 0\n",
    "\n",
    "for every_filename in filename_arr:\n",
    "    if every_filename[5] == '1':\n",
    "        num_female += 1\n",
    "    else:\n",
    "        num_male += 1\n",
    "        \n",
    "print('Number of Female: {}'.format(num_female))\n",
    "print('Number of Male: {}'.format(num_male))"
   ]
  },
  {
   "cell_type": "raw",
   "metadata": {},
   "source": [
    "# Faces were labeled as one of 7 categories, corresponding to 7 age ranges: \n",
    "\n",
    "Label\t\tAge Range\t\tAge Range - New dataset\n",
    "1\t\t0-2\t\t\t0\t\t0-19\t\t1, 5, 10, 16\n",
    "5\t\t3-7\t\t\t1\t\t20-36\t\t28\n",
    "10\t\t8-12\t    2\t\t37-65\t\t51\n",
    "16\t\t13-19\t    3\t\t65+\t\t    75\n",
    "28\t\t20-36\n",
    "51\t\t37-65\n",
    "75\t\t66+\n"
   ]
  },
  {
   "cell_type": "code",
   "execution_count": 31,
   "metadata": {},
   "outputs": [
    {
     "name": "stdout",
     "output_type": "stream",
     "text": [
      "Number of label 1: 753\n",
      "Number of label 5: 1246\n",
      "Number of label 10: 712\n",
      "Number of label 16: 1335\n",
      "Number of label 28: 12582\n",
      "Number of label 51: 5435\n",
      "Number of label 75: 919\n"
     ]
    }
   ],
   "source": [
    "num_label_1 = 0\n",
    "num_label_5 = 0\n",
    "num_label_10 = 0\n",
    "num_label_16 = 0\n",
    "num_label_28 = 0\n",
    "num_label_51 = 0\n",
    "num_label_75 = 0\n",
    "\n",
    "for every_filename in filename_arr:\n",
    "    if every_filename.split('-')[0][1:] == '1':\n",
    "        num_label_1 += 1\n",
    "    elif every_filename.split('-')[0][1:] == '5':\n",
    "        num_label_5 += 1\n",
    "    elif every_filename.split('-')[0][1:] == '10':\n",
    "        num_label_10 += 1\n",
    "    elif every_filename.split('-')[0][1:] == '16':\n",
    "        num_label_16 += 1\n",
    "    elif every_filename.split('-')[0][1:] == '28':\n",
    "        num_label_28 += 1\n",
    "    elif every_filename.split('-')[0][1:] == '51':\n",
    "        num_label_51 += 1\n",
    "    elif every_filename.split('-')[0][1:] == '75':\n",
    "        num_label_75 += 1\n",
    "\n",
    "print('Number of label 1: {}'.format(num_label_1))\n",
    "print('Number of label 5: {}'.format(num_label_5))\n",
    "print('Number of label 10: {}'.format(num_label_10))\n",
    "print('Number of label 16: {}'.format(num_label_16))\n",
    "print('Number of label 28: {}'.format(num_label_28))\n",
    "print('Number of label 51: {}'.format(num_label_51))\n",
    "print('Number of label 75: {}'.format(num_label_75))"
   ]
  },
  {
   "cell_type": "code",
   "execution_count": null,
   "metadata": {},
   "outputs": [],
   "source": []
  }
 ],
 "metadata": {
  "kernelspec": {
   "display_name": "Python 3",
   "language": "python",
   "name": "python3"
  },
  "language_info": {
   "codemirror_mode": {
    "name": "ipython",
    "version": 3
   },
   "file_extension": ".py",
   "mimetype": "text/x-python",
   "name": "python",
   "nbconvert_exporter": "python",
   "pygments_lexer": "ipython3",
   "version": "3.6.4"
  }
 },
 "nbformat": 4,
 "nbformat_minor": 2
}
